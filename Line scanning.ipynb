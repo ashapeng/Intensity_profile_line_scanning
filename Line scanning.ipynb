{
 "cells": [
  {
   "cell_type": "markdown",
   "metadata": {},
   "source": [
    "#### This is to analyze intensity colocalization by plotting line-scane gray value of different channels "
   ]
  },
  {
   "cell_type": "code",
   "execution_count": 1,
   "metadata": {},
   "outputs": [],
   "source": [
    "import os\n",
    "import re\n",
    "from skimage import io, restoration\n",
    "import pandas as pd\n",
    "import numpy as np\n",
    "from scipy.ndimage import gaussian_filter\n",
    "from skimage.draw import line\n",
    "import matplotlib.pyplot as plt"
   ]
  },
  {
   "cell_type": "markdown",
   "metadata": {},
   "source": [
    "##### data image"
   ]
  },
  {
   "cell_type": "code",
   "execution_count": null,
   "metadata": {},
   "outputs": [],
   "source": [
    "cell_dir = r\"where the cell images are stored\"\n",
    "raw_image_name = \".tif\""
   ]
  },
  {
   "cell_type": "markdown",
   "metadata": {},
   "source": [
    "####\n",
    "* read coordinates from txt file and load image"
   ]
  },
  {
   "cell_type": "code",
   "execution_count": null,
   "metadata": {},
   "outputs": [],
   "source": [
    "# read txt file\n",
    "for item in os.listdir(cell_dir):\n",
    "    if re.match(\".*.txt\", item):\n",
    "        coordinates = pd.read_csv(os.path.join(cell_dir,item), sep=\"\\t\",header=None)\n",
    "    if re.match(raw_image_name, item):\n",
    "        raw = io.imread(os.path.join(cell_dir,item)).astype(np.float32)\n",
    "        bg_substracted = np.stack([raw[...,i] - restoration.rolling_ball(raw[...,i],radius=100) for i in range(raw.shape[-1])],axis=-1)\n",
    "        raw_smoothed=np.stack([gaussian_filter(bg_substracted[...,i],sigma=1,mode=\"nearest\",truncate=3) for i in range(raw.shape[-1])],axis=-1)\n",
    "        # normalize the image by min-max\n",
    "        raw_smoothed = np.stack(\n",
    "            [(raw_smoothed[...,i] - raw_smoothed[...,i].min()) / (raw_smoothed[...,i].max() - raw_smoothed[...,i].min()) for i in range(raw.shape[-1])],axis=-1\n",
    "            )"
   ]
  },
  {
   "cell_type": "code",
   "execution_count": null,
   "metadata": {},
   "outputs": [],
   "source": [
    "# find the location of the cell whose value matches a expression in the dataframe\n",
    "def find_cell(coordinates, expression):\n",
    "    for index, row in coordinates.iterrows():\n",
    "        for item in row:\n",
    "            if re.match(expression, item):\n",
    "                # find the index of a character in the string\n",
    "                item = item[item.index(\"(\")+1:item.index(\")\")]\n",
    "                # split the string into a list\n",
    "                coordinate = list(map(int, item.split(\",\")))\n",
    "                return coordinate"
   ]
  },
  {
   "cell_type": "code",
   "execution_count": null,
   "metadata": {},
   "outputs": [],
   "source": [
    "# this is extract the coordinates of two ends of the line\n",
    "x1, y1, x2, y2 = find_cell(coordinates=coordinates, expression=\".*makeLine.*\")\n",
    "print(x1, y1, x2, y2)\n",
    "\n",
    "# Generate pixel coordinates along the line\n",
    "rr, cc = line(y1, x1, y2, x2)\n",
    "\n",
    "# find the gray value of the line\n",
    "red_value = raw_smoothed[rr,cc,0]\n",
    "green_value = raw_smoothed[rr,cc,1]\n",
    "blue_value = raw_smoothed[rr,cc,2]\n",
    "\n",
    "# scale line length in micron\n",
    "distance = np.arange(0, len(red_value), 1) * 0.08\n",
    "min_x = 0\n",
    "max_x = int(distance.max())\n",
    "\n",
    "# find the index of distance where the value is greater than 1 micron, and less than 8 micron\n",
    "index = np.where((distance > min_x) & (distance < max_x))\n",
    "# index = np.where(distance < 7)\n",
    "new_distance = distance[index]\n",
    "new_red_value = red_value[index]\n",
    "new_green_value = green_value[index]\n",
    "new_blue_value = blue_value[index]\n",
    "\n",
    "# plot gray value of each channel along the line\n",
    "# plot line scanning\n",
    "# set figure size based on the distance and y-axis range\n",
    "x = new_distance.max()\n",
    "y = 1.2*3\n",
    "\n",
    "fig, ax = plt.subplots(1,1,figsize=(x,y),dpi=300)\n",
    "rpoa2, = ax.plot(new_distance, new_green_value,\"g\")\n",
    "dao5, = ax.plot(new_distance, new_red_value,\"r\")\n",
    "lpd7, =ax.plot(new_distance, new_blue_value,\"b\")\n",
    "\n",
    "# change x-axis ticks\n",
    "ax.set_xticks(np.arange(min_x, max_x,1))\n",
    "ax.set_yticks(np.arange(0, 1.2,1))\n",
    "\n",
    "# hide x and y axis labels\n",
    "ax.set_yticklabels([])\n",
    "\n",
    "# turn off top and right spines\n",
    "ax.spines['top'].set_visible(False)\n",
    "ax.spines['right'].set_visible(False)\n",
    "plt.tight_layout()\n",
    "\n",
    "plt.savefig(\"%s/%s.svg\" %(cell_dir, \"plot_smooth\"), facecolor='w', dpi=300,transparent=True)"
   ]
  }
 ],
 "metadata": {
  "interpreter": {
   "hash": "6a5c6407c1be3ff9134a6599bb4d191027ef365b7f32aa3eb118069871e555f4"
  },
  "kernelspec": {
   "display_name": "Python 3.8.11 64-bit ('base': conda)",
   "name": "python3"
  },
  "language_info": {
   "codemirror_mode": {
    "name": "ipython",
    "version": 3
   },
   "file_extension": ".py",
   "mimetype": "text/x-python",
   "name": "python",
   "nbconvert_exporter": "python",
   "pygments_lexer": "ipython3",
   "version": "3.9.17"
  }
 },
 "nbformat": 4,
 "nbformat_minor": 2
}
